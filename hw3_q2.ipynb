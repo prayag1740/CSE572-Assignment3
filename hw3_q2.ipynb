{
  "nbformat": 4,
  "nbformat_minor": 0,
  "metadata": {
    "colab": {
      "provenance": []
    },
    "kernelspec": {
      "name": "python3",
      "display_name": "Python 3"
    },
    "language_info": {
      "name": "python"
    }
  },
  "cells": [
    {
      "cell_type": "code",
      "execution_count": null,
      "metadata": {
        "id": "vCX4OZ2iBGPr"
      },
      "outputs": [],
      "source": [
        "import pandas as pd\n",
        "import numpy as np\n",
        "import matplotlib.pyplot as plt\n",
        "import seaborn as sns\n",
        "import warnings\n",
        "warnings.filterwarnings('ignore')\n"
      ]
    },
    {
      "cell_type": "code",
      "source": [
        "ratings = pd.read_csv('/content/drive/MyDrive/ratings_small.csv')\n",
        "ratings.head()"
      ],
      "metadata": {
        "colab": {
          "base_uri": "https://localhost:8080/",
          "height": 206
        },
        "id": "TBrxjjgQPlCF",
        "outputId": "8f7c8392-ab38-4963-96f3-ecf264da0b82"
      },
      "execution_count": null,
      "outputs": [
        {
          "output_type": "execute_result",
          "data": {
            "text/plain": [
              "   userId  movieId  rating   timestamp\n",
              "0       1       31     2.5  1260759144\n",
              "1       1     1029     3.0  1260759179\n",
              "2       1     1061     3.0  1260759182\n",
              "3       1     1129     2.0  1260759185\n",
              "4       1     1172     4.0  1260759205"
            ],
            "text/html": [
              "\n",
              "  <div id=\"df-b5a691eb-7ad4-444b-8ecf-7d8b981b2b8f\" class=\"colab-df-container\">\n",
              "    <div>\n",
              "<style scoped>\n",
              "    .dataframe tbody tr th:only-of-type {\n",
              "        vertical-align: middle;\n",
              "    }\n",
              "\n",
              "    .dataframe tbody tr th {\n",
              "        vertical-align: top;\n",
              "    }\n",
              "\n",
              "    .dataframe thead th {\n",
              "        text-align: right;\n",
              "    }\n",
              "</style>\n",
              "<table border=\"1\" class=\"dataframe\">\n",
              "  <thead>\n",
              "    <tr style=\"text-align: right;\">\n",
              "      <th></th>\n",
              "      <th>userId</th>\n",
              "      <th>movieId</th>\n",
              "      <th>rating</th>\n",
              "      <th>timestamp</th>\n",
              "    </tr>\n",
              "  </thead>\n",
              "  <tbody>\n",
              "    <tr>\n",
              "      <th>0</th>\n",
              "      <td>1</td>\n",
              "      <td>31</td>\n",
              "      <td>2.5</td>\n",
              "      <td>1260759144</td>\n",
              "    </tr>\n",
              "    <tr>\n",
              "      <th>1</th>\n",
              "      <td>1</td>\n",
              "      <td>1029</td>\n",
              "      <td>3.0</td>\n",
              "      <td>1260759179</td>\n",
              "    </tr>\n",
              "    <tr>\n",
              "      <th>2</th>\n",
              "      <td>1</td>\n",
              "      <td>1061</td>\n",
              "      <td>3.0</td>\n",
              "      <td>1260759182</td>\n",
              "    </tr>\n",
              "    <tr>\n",
              "      <th>3</th>\n",
              "      <td>1</td>\n",
              "      <td>1129</td>\n",
              "      <td>2.0</td>\n",
              "      <td>1260759185</td>\n",
              "    </tr>\n",
              "    <tr>\n",
              "      <th>4</th>\n",
              "      <td>1</td>\n",
              "      <td>1172</td>\n",
              "      <td>4.0</td>\n",
              "      <td>1260759205</td>\n",
              "    </tr>\n",
              "  </tbody>\n",
              "</table>\n",
              "</div>\n",
              "    <div class=\"colab-df-buttons\">\n",
              "\n",
              "  <div class=\"colab-df-container\">\n",
              "    <button class=\"colab-df-convert\" onclick=\"convertToInteractive('df-b5a691eb-7ad4-444b-8ecf-7d8b981b2b8f')\"\n",
              "            title=\"Convert this dataframe to an interactive table.\"\n",
              "            style=\"display:none;\">\n",
              "\n",
              "  <svg xmlns=\"http://www.w3.org/2000/svg\" height=\"24px\" viewBox=\"0 -960 960 960\">\n",
              "    <path d=\"M120-120v-720h720v720H120Zm60-500h600v-160H180v160Zm220 220h160v-160H400v160Zm0 220h160v-160H400v160ZM180-400h160v-160H180v160Zm440 0h160v-160H620v160ZM180-180h160v-160H180v160Zm440 0h160v-160H620v160Z\"/>\n",
              "  </svg>\n",
              "    </button>\n",
              "\n",
              "  <style>\n",
              "    .colab-df-container {\n",
              "      display:flex;\n",
              "      gap: 12px;\n",
              "    }\n",
              "\n",
              "    .colab-df-convert {\n",
              "      background-color: #E8F0FE;\n",
              "      border: none;\n",
              "      border-radius: 50%;\n",
              "      cursor: pointer;\n",
              "      display: none;\n",
              "      fill: #1967D2;\n",
              "      height: 32px;\n",
              "      padding: 0 0 0 0;\n",
              "      width: 32px;\n",
              "    }\n",
              "\n",
              "    .colab-df-convert:hover {\n",
              "      background-color: #E2EBFA;\n",
              "      box-shadow: 0px 1px 2px rgba(60, 64, 67, 0.3), 0px 1px 3px 1px rgba(60, 64, 67, 0.15);\n",
              "      fill: #174EA6;\n",
              "    }\n",
              "\n",
              "    .colab-df-buttons div {\n",
              "      margin-bottom: 4px;\n",
              "    }\n",
              "\n",
              "    [theme=dark] .colab-df-convert {\n",
              "      background-color: #3B4455;\n",
              "      fill: #D2E3FC;\n",
              "    }\n",
              "\n",
              "    [theme=dark] .colab-df-convert:hover {\n",
              "      background-color: #434B5C;\n",
              "      box-shadow: 0px 1px 3px 1px rgba(0, 0, 0, 0.15);\n",
              "      filter: drop-shadow(0px 1px 2px rgba(0, 0, 0, 0.3));\n",
              "      fill: #FFFFFF;\n",
              "    }\n",
              "  </style>\n",
              "\n",
              "    <script>\n",
              "      const buttonEl =\n",
              "        document.querySelector('#df-b5a691eb-7ad4-444b-8ecf-7d8b981b2b8f button.colab-df-convert');\n",
              "      buttonEl.style.display =\n",
              "        google.colab.kernel.accessAllowed ? 'block' : 'none';\n",
              "\n",
              "      async function convertToInteractive(key) {\n",
              "        const element = document.querySelector('#df-b5a691eb-7ad4-444b-8ecf-7d8b981b2b8f');\n",
              "        const dataTable =\n",
              "          await google.colab.kernel.invokeFunction('convertToInteractive',\n",
              "                                                    [key], {});\n",
              "        if (!dataTable) return;\n",
              "\n",
              "        const docLinkHtml = 'Like what you see? Visit the ' +\n",
              "          '<a target=\"_blank\" href=https://colab.research.google.com/notebooks/data_table.ipynb>data table notebook</a>'\n",
              "          + ' to learn more about interactive tables.';\n",
              "        element.innerHTML = '';\n",
              "        dataTable['output_type'] = 'display_data';\n",
              "        await google.colab.output.renderOutput(dataTable, element);\n",
              "        const docLink = document.createElement('div');\n",
              "        docLink.innerHTML = docLinkHtml;\n",
              "        element.appendChild(docLink);\n",
              "      }\n",
              "    </script>\n",
              "  </div>\n",
              "\n",
              "\n",
              "<div id=\"df-3a1d2bfc-0259-4533-aaf6-d5ce83d595bb\">\n",
              "  <button class=\"colab-df-quickchart\" onclick=\"quickchart('df-3a1d2bfc-0259-4533-aaf6-d5ce83d595bb')\"\n",
              "            title=\"Suggest charts\"\n",
              "            style=\"display:none;\">\n",
              "\n",
              "<svg xmlns=\"http://www.w3.org/2000/svg\" height=\"24px\"viewBox=\"0 0 24 24\"\n",
              "     width=\"24px\">\n",
              "    <g>\n",
              "        <path d=\"M19 3H5c-1.1 0-2 .9-2 2v14c0 1.1.9 2 2 2h14c1.1 0 2-.9 2-2V5c0-1.1-.9-2-2-2zM9 17H7v-7h2v7zm4 0h-2V7h2v10zm4 0h-2v-4h2v4z\"/>\n",
              "    </g>\n",
              "</svg>\n",
              "  </button>\n",
              "\n",
              "<style>\n",
              "  .colab-df-quickchart {\n",
              "      --bg-color: #E8F0FE;\n",
              "      --fill-color: #1967D2;\n",
              "      --hover-bg-color: #E2EBFA;\n",
              "      --hover-fill-color: #174EA6;\n",
              "      --disabled-fill-color: #AAA;\n",
              "      --disabled-bg-color: #DDD;\n",
              "  }\n",
              "\n",
              "  [theme=dark] .colab-df-quickchart {\n",
              "      --bg-color: #3B4455;\n",
              "      --fill-color: #D2E3FC;\n",
              "      --hover-bg-color: #434B5C;\n",
              "      --hover-fill-color: #FFFFFF;\n",
              "      --disabled-bg-color: #3B4455;\n",
              "      --disabled-fill-color: #666;\n",
              "  }\n",
              "\n",
              "  .colab-df-quickchart {\n",
              "    background-color: var(--bg-color);\n",
              "    border: none;\n",
              "    border-radius: 50%;\n",
              "    cursor: pointer;\n",
              "    display: none;\n",
              "    fill: var(--fill-color);\n",
              "    height: 32px;\n",
              "    padding: 0;\n",
              "    width: 32px;\n",
              "  }\n",
              "\n",
              "  .colab-df-quickchart:hover {\n",
              "    background-color: var(--hover-bg-color);\n",
              "    box-shadow: 0 1px 2px rgba(60, 64, 67, 0.3), 0 1px 3px 1px rgba(60, 64, 67, 0.15);\n",
              "    fill: var(--button-hover-fill-color);\n",
              "  }\n",
              "\n",
              "  .colab-df-quickchart-complete:disabled,\n",
              "  .colab-df-quickchart-complete:disabled:hover {\n",
              "    background-color: var(--disabled-bg-color);\n",
              "    fill: var(--disabled-fill-color);\n",
              "    box-shadow: none;\n",
              "  }\n",
              "\n",
              "  .colab-df-spinner {\n",
              "    border: 2px solid var(--fill-color);\n",
              "    border-color: transparent;\n",
              "    border-bottom-color: var(--fill-color);\n",
              "    animation:\n",
              "      spin 1s steps(1) infinite;\n",
              "  }\n",
              "\n",
              "  @keyframes spin {\n",
              "    0% {\n",
              "      border-color: transparent;\n",
              "      border-bottom-color: var(--fill-color);\n",
              "      border-left-color: var(--fill-color);\n",
              "    }\n",
              "    20% {\n",
              "      border-color: transparent;\n",
              "      border-left-color: var(--fill-color);\n",
              "      border-top-color: var(--fill-color);\n",
              "    }\n",
              "    30% {\n",
              "      border-color: transparent;\n",
              "      border-left-color: var(--fill-color);\n",
              "      border-top-color: var(--fill-color);\n",
              "      border-right-color: var(--fill-color);\n",
              "    }\n",
              "    40% {\n",
              "      border-color: transparent;\n",
              "      border-right-color: var(--fill-color);\n",
              "      border-top-color: var(--fill-color);\n",
              "    }\n",
              "    60% {\n",
              "      border-color: transparent;\n",
              "      border-right-color: var(--fill-color);\n",
              "    }\n",
              "    80% {\n",
              "      border-color: transparent;\n",
              "      border-right-color: var(--fill-color);\n",
              "      border-bottom-color: var(--fill-color);\n",
              "    }\n",
              "    90% {\n",
              "      border-color: transparent;\n",
              "      border-bottom-color: var(--fill-color);\n",
              "    }\n",
              "  }\n",
              "</style>\n",
              "\n",
              "  <script>\n",
              "    async function quickchart(key) {\n",
              "      const quickchartButtonEl =\n",
              "        document.querySelector('#' + key + ' button');\n",
              "      quickchartButtonEl.disabled = true;  // To prevent multiple clicks.\n",
              "      quickchartButtonEl.classList.add('colab-df-spinner');\n",
              "      try {\n",
              "        const charts = await google.colab.kernel.invokeFunction(\n",
              "            'suggestCharts', [key], {});\n",
              "      } catch (error) {\n",
              "        console.error('Error during call to suggestCharts:', error);\n",
              "      }\n",
              "      quickchartButtonEl.classList.remove('colab-df-spinner');\n",
              "      quickchartButtonEl.classList.add('colab-df-quickchart-complete');\n",
              "    }\n",
              "    (() => {\n",
              "      let quickchartButtonEl =\n",
              "        document.querySelector('#df-3a1d2bfc-0259-4533-aaf6-d5ce83d595bb button');\n",
              "      quickchartButtonEl.style.display =\n",
              "        google.colab.kernel.accessAllowed ? 'block' : 'none';\n",
              "    })();\n",
              "  </script>\n",
              "</div>\n",
              "\n",
              "    </div>\n",
              "  </div>\n"
            ],
            "application/vnd.google.colaboratory.intrinsic+json": {
              "type": "dataframe",
              "variable_name": "ratings"
            }
          },
          "metadata": {},
          "execution_count": 2
        }
      ]
    },
    {
      "cell_type": "code",
      "source": [
        "!pip install scikit-surprise\n"
      ],
      "metadata": {
        "colab": {
          "base_uri": "https://localhost:8080/"
        },
        "id": "Acp0_IEKwimi",
        "outputId": "27474518-d1af-4edc-fc00-42d254199863"
      },
      "execution_count": null,
      "outputs": [
        {
          "output_type": "stream",
          "name": "stdout",
          "text": [
            "Collecting scikit-surprise\n",
            "  Downloading scikit_surprise-1.1.4.tar.gz (154 kB)\n",
            "\u001b[?25l     \u001b[90m━━━━━━━━━━━━━━━━━━━━━━━━━━━━━━━━━━━━━━━━\u001b[0m \u001b[32m0.0/154.4 kB\u001b[0m \u001b[31m?\u001b[0m eta \u001b[36m-:--:--\u001b[0m\r\u001b[2K     \u001b[91m━━━━━━━━━━━━━━━━━━━━━━━━━━━━━━━━━━━━━━━\u001b[0m\u001b[91m╸\u001b[0m \u001b[32m153.6/154.4 kB\u001b[0m \u001b[31m4.6 MB/s\u001b[0m eta \u001b[36m0:00:01\u001b[0m\r\u001b[2K     \u001b[90m━━━━━━━━━━━━━━━━━━━━━━━━━━━━━━━━━━━━━━━━\u001b[0m \u001b[32m154.4/154.4 kB\u001b[0m \u001b[31m2.8 MB/s\u001b[0m eta \u001b[36m0:00:00\u001b[0m\n",
            "\u001b[?25h  Installing build dependencies ... \u001b[?25l\u001b[?25hdone\n",
            "  Getting requirements to build wheel ... \u001b[?25l\u001b[?25hdone\n",
            "  Preparing metadata (pyproject.toml) ... \u001b[?25l\u001b[?25hdone\n",
            "Requirement already satisfied: joblib>=1.2.0 in /usr/local/lib/python3.10/dist-packages (from scikit-surprise) (1.4.2)\n",
            "Requirement already satisfied: numpy>=1.19.5 in /usr/local/lib/python3.10/dist-packages (from scikit-surprise) (1.26.4)\n",
            "Requirement already satisfied: scipy>=1.6.0 in /usr/local/lib/python3.10/dist-packages (from scikit-surprise) (1.13.1)\n",
            "Building wheels for collected packages: scikit-surprise\n",
            "  Building wheel for scikit-surprise (pyproject.toml) ... \u001b[?25l\u001b[?25hdone\n",
            "  Created wheel for scikit-surprise: filename=scikit_surprise-1.1.4-cp310-cp310-linux_x86_64.whl size=2357275 sha256=f74504a189b1976f590558d36cf2ab63bb7a635033756c6e2e2510178cdb59c1\n",
            "  Stored in directory: /root/.cache/pip/wheels/4b/3f/df/6acbf0a40397d9bf3ff97f582cc22fb9ce66adde75bc71fd54\n",
            "Successfully built scikit-surprise\n",
            "Installing collected packages: scikit-surprise\n",
            "Successfully installed scikit-surprise-1.1.4\n"
          ]
        }
      ]
    },
    {
      "cell_type": "code",
      "source": [
        "min_rating = ratings['rating'].min()\n",
        "max_rating = ratings['rating'].max()\n",
        "print(min_rating, max_rating)"
      ],
      "metadata": {
        "colab": {
          "base_uri": "https://localhost:8080/"
        },
        "id": "DVZ6jDwyw07U",
        "outputId": "a52ad04e-78ee-48aa-9bee-2fd4b16d882a"
      },
      "execution_count": null,
      "outputs": [
        {
          "output_type": "stream",
          "name": "stdout",
          "text": [
            "0.5 5.0\n"
          ]
        }
      ]
    },
    {
      "cell_type": "code",
      "source": [
        "from surprise import Reader, Dataset, SVD, KNNBasic\n",
        "from surprise.model_selection import cross_validate\n",
        "\n",
        "reader = Reader(rating_scale=(min_rating, max_rating))\n",
        "data = Dataset.load_from_df(ratings[['userId', 'movieId', 'rating']], reader)"
      ],
      "metadata": {
        "id": "a_vC9rfZxEmC"
      },
      "execution_count": null,
      "outputs": []
    },
    {
      "cell_type": "code",
      "source": [
        "## cosine similarity for user based\n",
        "\n",
        "sim_options = {'name': 'cosine', 'user_based': True}\n",
        "knn_user_cosine = KNNBasic(sim_options=sim_options)\n",
        "\n",
        "knn_user_cosine_res  = cross_validate(knn_user_cosine, data, measures=['RMSE', 'MAE'], cv=5, verbose=True)\n",
        "knn_user_cosine_res"
      ],
      "metadata": {
        "colab": {
          "base_uri": "https://localhost:8080/"
        },
        "id": "dC9YVFEfxR7z",
        "outputId": "378b67b4-6641-4354-fd7f-8d72f4884119"
      },
      "execution_count": null,
      "outputs": [
        {
          "output_type": "stream",
          "name": "stdout",
          "text": [
            "Computing the cosine similarity matrix...\n",
            "Done computing similarity matrix.\n",
            "Computing the cosine similarity matrix...\n",
            "Done computing similarity matrix.\n",
            "Computing the cosine similarity matrix...\n",
            "Done computing similarity matrix.\n",
            "Computing the cosine similarity matrix...\n",
            "Done computing similarity matrix.\n",
            "Computing the cosine similarity matrix...\n",
            "Done computing similarity matrix.\n",
            "Evaluating RMSE, MAE of algorithm KNNBasic on 5 split(s).\n",
            "\n",
            "                  Fold 1  Fold 2  Fold 3  Fold 4  Fold 5  Mean    Std     \n",
            "RMSE (testset)    0.9927  0.9982  1.0028  0.9946  0.9837  0.9944  0.0064  \n",
            "MAE (testset)     0.7683  0.7713  0.7715  0.7668  0.7609  0.7678  0.0039  \n",
            "Fit time          0.17    0.28    0.21    0.17    0.19    0.21    0.04    \n",
            "Test time         1.66    2.49    1.33    1.47    1.33    1.66    0.44    \n"
          ]
        },
        {
          "output_type": "execute_result",
          "data": {
            "text/plain": [
              "{'test_rmse': array([0.99272077, 0.99823711, 1.0028046 , 0.99456132, 0.98366124]),\n",
              " 'test_mae': array([0.76825625, 0.77132297, 0.77146335, 0.76684591, 0.76091416]),\n",
              " 'fit_time': (0.17279839515686035,\n",
              "  0.27901291847229004,\n",
              "  0.20712685585021973,\n",
              "  0.1733262538909912,\n",
              "  0.19497013092041016),\n",
              " 'test_time': (1.6617546081542969,\n",
              "  2.493678331375122,\n",
              "  1.3313443660736084,\n",
              "  1.4652268886566162,\n",
              "  1.3297209739685059)}"
            ]
          },
          "metadata": {},
          "execution_count": 10
        }
      ]
    },
    {
      "cell_type": "code",
      "source": [
        "knn_user_cosine_rmse_mean = np.mean(knn_user_cosine_res['test_rmse'])\n",
        "knn_user_cosine_mae_mean = np.mean(knn_user_cosine_res['test_mae'])\n",
        "\n",
        "print(\"Knn user cosine rmse mean : \" , knn_user_cosine_rmse_mean)\n",
        "print(\"Knn user cosine mae mean  : \" , knn_user_cosine_mae_mean)"
      ],
      "metadata": {
        "colab": {
          "base_uri": "https://localhost:8080/"
        },
        "id": "71R4iihczdxU",
        "outputId": "31a928db-06ca-4e6d-e62b-b8005f9bc998"
      },
      "execution_count": null,
      "outputs": [
        {
          "output_type": "stream",
          "name": "stdout",
          "text": [
            "Knn user cosine rmse mean :  0.9943970045736421\n",
            "Knn user cosine mae mean  :  0.7677605309662776\n"
          ]
        }
      ]
    },
    {
      "cell_type": "code",
      "source": [
        "## cosine similarity for item based\n",
        "\n",
        "sim_options = {'name': 'cosine', 'user_based': False}\n",
        "knn_item_cosine = KNNBasic(sim_options=sim_options)\n",
        "\n",
        "knn_item_cosine_res  = cross_validate(knn_item_cosine, data, measures=['RMSE', 'MAE'], cv=5, verbose=True)\n",
        "knn_item_cosine_res"
      ],
      "metadata": {
        "colab": {
          "base_uri": "https://localhost:8080/"
        },
        "id": "XHPWsIw4zCaH",
        "outputId": "7268cbee-2847-44b8-9510-2be175d8dabe"
      },
      "execution_count": null,
      "outputs": [
        {
          "output_type": "stream",
          "name": "stdout",
          "text": [
            "Computing the cosine similarity matrix...\n",
            "Done computing similarity matrix.\n",
            "Computing the cosine similarity matrix...\n",
            "Done computing similarity matrix.\n",
            "Computing the cosine similarity matrix...\n",
            "Done computing similarity matrix.\n",
            "Computing the cosine similarity matrix...\n",
            "Done computing similarity matrix.\n",
            "Computing the cosine similarity matrix...\n",
            "Done computing similarity matrix.\n",
            "Evaluating RMSE, MAE of algorithm KNNBasic on 5 split(s).\n",
            "\n",
            "                  Fold 1  Fold 2  Fold 3  Fold 4  Fold 5  Mean    Std     \n",
            "RMSE (testset)    1.0062  0.9984  1.0024  0.9828  0.9889  0.9957  0.0087  \n",
            "MAE (testset)     0.7838  0.7749  0.7816  0.7671  0.7661  0.7747  0.0072  \n",
            "Fit time          6.97    6.76    6.79    6.79    6.78    6.82    0.08    \n",
            "Test time         6.13    6.37    6.37    6.51    6.39    6.35    0.12    \n"
          ]
        },
        {
          "output_type": "execute_result",
          "data": {
            "text/plain": [
              "{'test_rmse': array([1.00624405, 0.99839433, 1.00236407, 0.98280827, 0.98892982]),\n",
              " 'test_mae': array([0.78377305, 0.77490191, 0.78164773, 0.76714488, 0.76612539]),\n",
              " 'fit_time': (6.969949960708618,\n",
              "  6.758750677108765,\n",
              "  6.789348602294922,\n",
              "  6.7875096797943115,\n",
              "  6.780838966369629),\n",
              " 'test_time': (6.133547782897949,\n",
              "  6.367324352264404,\n",
              "  6.365672826766968,\n",
              "  6.506926774978638,\n",
              "  6.390348434448242)}"
            ]
          },
          "metadata": {},
          "execution_count": 11
        }
      ]
    },
    {
      "cell_type": "code",
      "source": [
        "knn_item_cosine_rmse_mean = np.mean(knn_item_cosine_res['test_rmse'])\n",
        "knn_item_cosine_mae_mean = np.mean(knn_item_cosine_res['test_mae'])\n",
        "\n",
        "print(\"Knn item cosine rmse mean : \" , knn_item_cosine_rmse_mean)\n",
        "print(\"Knn item cosine mae mean  : \" , knn_item_cosine_mae_mean)"
      ],
      "metadata": {
        "colab": {
          "base_uri": "https://localhost:8080/"
        },
        "id": "1VWSNRO50BQQ",
        "outputId": "56a9ac9f-f904-4195-ca02-b6aa7ef64f8c"
      },
      "execution_count": null,
      "outputs": [
        {
          "output_type": "stream",
          "name": "stdout",
          "text": [
            "Knn item cosine rmse mean :  0.9957481081208929\n",
            "Knn item cosine mae mean  :  0.7747185908437537\n"
          ]
        }
      ]
    },
    {
      "cell_type": "code",
      "source": [
        "## Probabilistic Matrix Factorization\n",
        "\n",
        "pmf_res = cross_validate(SVD(), data, measures=['RMSE', 'MAE'], cv=5, verbose=True)\n",
        "pmf_res"
      ],
      "metadata": {
        "colab": {
          "base_uri": "https://localhost:8080/"
        },
        "id": "SGpItjUw0NjS",
        "outputId": "a3e2f486-3269-4c63-a7f0-479041ff6439"
      },
      "execution_count": null,
      "outputs": [
        {
          "output_type": "stream",
          "name": "stdout",
          "text": [
            "Evaluating RMSE, MAE of algorithm SVD on 5 split(s).\n",
            "\n",
            "                  Fold 1  Fold 2  Fold 3  Fold 4  Fold 5  Mean    Std     \n",
            "RMSE (testset)    0.8983  0.8957  0.9036  0.8979  0.8951  0.8981  0.0030  \n",
            "MAE (testset)     0.6901  0.6915  0.6950  0.6897  0.6914  0.6915  0.0019  \n",
            "Fit time          2.16    1.94    1.42    1.49    1.47    1.70    0.30    \n",
            "Test time         0.18    0.11    0.11    0.12    0.12    0.13    0.03    \n"
          ]
        },
        {
          "output_type": "execute_result",
          "data": {
            "text/plain": [
              "{'test_rmse': array([0.89832236, 0.89565562, 0.90360168, 0.89792328, 0.8950929 ]),\n",
              " 'test_mae': array([0.69009995, 0.69153132, 0.69498422, 0.68970077, 0.6914164 ]),\n",
              " 'fit_time': (2.1572530269622803,\n",
              "  1.9425795078277588,\n",
              "  1.4242181777954102,\n",
              "  1.4938733577728271,\n",
              "  1.4654815196990967),\n",
              " 'test_time': (0.17764520645141602,\n",
              "  0.10835933685302734,\n",
              "  0.10863137245178223,\n",
              "  0.11796855926513672,\n",
              "  0.12483382225036621)}"
            ]
          },
          "metadata": {},
          "execution_count": 14
        }
      ]
    },
    {
      "cell_type": "code",
      "source": [
        "pmf_res_rmse_mean = np.mean(pmf_res['test_rmse'])\n",
        "pmf_res_mae_mean = np.mean(pmf_res['test_mae'])\n",
        "\n",
        "print(\"PMF rmse mean : \" , pmf_res_rmse_mean)\n",
        "print(\"PMF mae mean  : \" , pmf_res_mae_mean)"
      ],
      "metadata": {
        "colab": {
          "base_uri": "https://localhost:8080/"
        },
        "id": "xXFt8l9K0m2Y",
        "outputId": "d8bf4117-9533-43b9-85da-66dae96532a4"
      },
      "execution_count": null,
      "outputs": [
        {
          "output_type": "stream",
          "name": "stdout",
          "text": [
            "PMF rmse mean :  0.8981191680920585\n",
            "PMF mae mean  :  0.6915465320809371\n"
          ]
        }
      ]
    },
    {
      "cell_type": "code",
      "source": [
        "## msd similarity for user based\n",
        "\n",
        "sim_options = {'name': 'msd', 'user_based': True}\n",
        "\n",
        "knn_user_msd = KNNBasic(sim_options=sim_options)\n",
        "\n",
        "knn_user_msd_res  = cross_validate(knn_user_msd, data, measures=['RMSE', 'MAE'], cv=5, verbose=True)\n",
        "knn_user_msd_res"
      ],
      "metadata": {
        "colab": {
          "base_uri": "https://localhost:8080/"
        },
        "id": "Sx_bwDus0wGs",
        "outputId": "690a87a3-4b66-4698-f32f-d33c34656b63"
      },
      "execution_count": null,
      "outputs": [
        {
          "output_type": "stream",
          "name": "stdout",
          "text": [
            "Computing the msd similarity matrix...\n",
            "Done computing similarity matrix.\n",
            "Computing the msd similarity matrix...\n",
            "Done computing similarity matrix.\n",
            "Computing the msd similarity matrix...\n",
            "Done computing similarity matrix.\n",
            "Computing the msd similarity matrix...\n",
            "Done computing similarity matrix.\n",
            "Computing the msd similarity matrix...\n",
            "Done computing similarity matrix.\n",
            "Evaluating RMSE, MAE of algorithm KNNBasic on 5 split(s).\n",
            "\n",
            "                  Fold 1  Fold 2  Fold 3  Fold 4  Fold 5  Mean    Std     \n",
            "RMSE (testset)    0.9764  0.9755  0.9641  0.9707  0.9646  0.9703  0.0052  \n",
            "MAE (testset)     0.7505  0.7502  0.7417  0.7445  0.7406  0.7455  0.0042  \n",
            "Fit time          0.12    0.13    0.14    0.18    0.13    0.14    0.02    \n",
            "Test time         1.36    1.35    1.99    2.46    1.38    1.71    0.45    \n"
          ]
        },
        {
          "output_type": "execute_result",
          "data": {
            "text/plain": [
              "{'test_rmse': array([0.9764376 , 0.97554266, 0.96407964, 0.97074218, 0.96462979]),\n",
              " 'test_mae': array([0.75053956, 0.75019093, 0.74173247, 0.74445225, 0.74064873]),\n",
              " 'fit_time': (0.12408256530761719,\n",
              "  0.13049674034118652,\n",
              "  0.13627409934997559,\n",
              "  0.1774308681488037,\n",
              "  0.13439178466796875),\n",
              " 'test_time': (1.3573589324951172,\n",
              "  1.3463990688323975,\n",
              "  1.989734172821045,\n",
              "  2.460336446762085,\n",
              "  1.3794786930084229)}"
            ]
          },
          "metadata": {},
          "execution_count": 16
        }
      ]
    },
    {
      "cell_type": "code",
      "source": [
        "## msd similarity for item based\n",
        "\n",
        "sim_options = {'name': 'msd', 'user_based': False}\n",
        "\n",
        "knn_item_msd = KNNBasic(sim_options=sim_options)\n",
        "\n",
        "knn_item_msd_res  = cross_validate(knn_item_msd, data, measures=['RMSE', 'MAE'], cv=5, verbose=True)\n",
        "knn_item_msd_res"
      ],
      "metadata": {
        "colab": {
          "base_uri": "https://localhost:8080/"
        },
        "id": "idDsYjEP1nZ4",
        "outputId": "2795b914-b7ad-4923-9256-6f1d6615234c"
      },
      "execution_count": null,
      "outputs": [
        {
          "output_type": "stream",
          "name": "stdout",
          "text": [
            "Computing the msd similarity matrix...\n",
            "Done computing similarity matrix.\n",
            "Computing the msd similarity matrix...\n",
            "Done computing similarity matrix.\n",
            "Computing the msd similarity matrix...\n",
            "Done computing similarity matrix.\n",
            "Computing the msd similarity matrix...\n",
            "Done computing similarity matrix.\n",
            "Computing the msd similarity matrix...\n",
            "Done computing similarity matrix.\n",
            "Evaluating RMSE, MAE of algorithm KNNBasic on 5 split(s).\n",
            "\n",
            "                  Fold 1  Fold 2  Fold 3  Fold 4  Fold 5  Mean    Std     \n",
            "RMSE (testset)    0.9315  0.9349  0.9290  0.9318  0.9459  0.9346  0.0060  \n",
            "MAE (testset)     0.7188  0.7209  0.7180  0.7197  0.7271  0.7209  0.0033  \n",
            "Fit time          4.12    3.71    3.74    3.70    4.08    3.87    0.19    \n",
            "Test time         7.60    8.31    8.24    7.60    6.60    7.67    0.61    \n"
          ]
        },
        {
          "output_type": "execute_result",
          "data": {
            "text/plain": [
              "{'test_rmse': array([0.93146856, 0.93492232, 0.92899149, 0.93179647, 0.94593091]),\n",
              " 'test_mae': array([0.71879223, 0.7208636 , 0.71798774, 0.71972595, 0.7271168 ]),\n",
              " 'fit_time': (4.123215198516846,\n",
              "  3.705300807952881,\n",
              "  3.738940477371216,\n",
              "  3.6977968215942383,\n",
              "  4.075262784957886),\n",
              " 'test_time': (7.604947328567505,\n",
              "  8.309360027313232,\n",
              "  8.239065408706665,\n",
              "  7.5998311042785645,\n",
              "  6.604368686676025)}"
            ]
          },
          "metadata": {},
          "execution_count": 17
        }
      ]
    },
    {
      "cell_type": "code",
      "source": [
        "## pearson similarity for user based\n",
        "\n",
        "sim_options = {'name': 'pearson', 'user_based': True}\n",
        "\n",
        "knn_user_pearson = KNNBasic(sim_options=sim_options)\n",
        "\n",
        "knn_user_pearson_res  = cross_validate(knn_user_pearson, data, measures=['RMSE', 'MAE'], cv=5, verbose=True)\n",
        "knn_user_pearson_res"
      ],
      "metadata": {
        "colab": {
          "base_uri": "https://localhost:8080/"
        },
        "id": "I5TetizT2dPr",
        "outputId": "31dd4f59-b036-4e36-e378-eb8ab0209624"
      },
      "execution_count": null,
      "outputs": [
        {
          "output_type": "stream",
          "name": "stdout",
          "text": [
            "Computing the pearson similarity matrix...\n",
            "Done computing similarity matrix.\n",
            "Computing the pearson similarity matrix...\n",
            "Done computing similarity matrix.\n",
            "Computing the pearson similarity matrix...\n",
            "Done computing similarity matrix.\n",
            "Computing the pearson similarity matrix...\n",
            "Done computing similarity matrix.\n",
            "Computing the pearson similarity matrix...\n",
            "Done computing similarity matrix.\n",
            "Evaluating RMSE, MAE of algorithm KNNBasic on 5 split(s).\n",
            "\n",
            "                  Fold 1  Fold 2  Fold 3  Fold 4  Fold 5  Mean    Std     \n",
            "RMSE (testset)    0.9983  0.9951  0.9982  0.9970  1.0031  0.9983  0.0026  \n",
            "MAE (testset)     0.7723  0.7696  0.7735  0.7717  0.7757  0.7725  0.0020  \n",
            "Fit time          0.21    0.21    0.21    0.21    0.33    0.23    0.05    \n",
            "Test time         1.51    1.33    1.50    1.49    2.59    1.69    0.46    \n"
          ]
        },
        {
          "output_type": "execute_result",
          "data": {
            "text/plain": [
              "{'test_rmse': array([0.9983137 , 0.99507494, 0.99824964, 0.99702598, 1.00306941]),\n",
              " 'test_mae': array([0.77228521, 0.76957138, 0.77350918, 0.77168056, 0.77567606]),\n",
              " 'fit_time': (0.20543551445007324,\n",
              "  0.20911169052124023,\n",
              "  0.21377158164978027,\n",
              "  0.2095355987548828,\n",
              "  0.33173274993896484),\n",
              " 'test_time': (1.5113496780395508,\n",
              "  1.3269598484039307,\n",
              "  1.5005791187286377,\n",
              "  1.4940896034240723,\n",
              "  2.592031717300415)}"
            ]
          },
          "metadata": {},
          "execution_count": 18
        }
      ]
    },
    {
      "cell_type": "code",
      "source": [
        "## pearson similarity for item based\n",
        "\n",
        "sim_options = {'name': 'pearson', 'user' : False }\n",
        "\n",
        "knn_item_pearson = KNNBasic(sim_options=sim_options)\n",
        "\n",
        "knn_item_pearson_res  = cross_validate(knn_item_pearson, data, measures=['RMSE', 'MAE'], cv=5, verbose=True)\n",
        "knn_item_pearson_res"
      ],
      "metadata": {
        "colab": {
          "base_uri": "https://localhost:8080/"
        },
        "id": "L8fa-olz2msJ",
        "outputId": "c16d10d8-f6f3-49de-bbdd-274e6665a07f"
      },
      "execution_count": null,
      "outputs": [
        {
          "output_type": "stream",
          "name": "stdout",
          "text": [
            "Computing the pearson similarity matrix...\n",
            "Done computing similarity matrix.\n",
            "Computing the pearson similarity matrix...\n",
            "Done computing similarity matrix.\n",
            "Computing the pearson similarity matrix...\n",
            "Done computing similarity matrix.\n",
            "Computing the pearson similarity matrix...\n",
            "Done computing similarity matrix.\n",
            "Computing the pearson similarity matrix...\n",
            "Done computing similarity matrix.\n",
            "Evaluating RMSE, MAE of algorithm KNNBasic on 5 split(s).\n",
            "\n",
            "                  Fold 1  Fold 2  Fold 3  Fold 4  Fold 5  Mean    Std     \n",
            "RMSE (testset)    0.9942  0.9933  0.9986  1.0136  0.9951  0.9990  0.0075  \n",
            "MAE (testset)     0.7701  0.7685  0.7727  0.7828  0.7703  0.7729  0.0051  \n",
            "Fit time          0.22    0.21    0.23    0.33    0.26    0.25    0.04    \n",
            "Test time         1.32    1.39    2.32    2.09    1.51    1.73    0.40    \n"
          ]
        },
        {
          "output_type": "execute_result",
          "data": {
            "text/plain": [
              "{'test_rmse': array([0.99421679, 0.99328272, 0.99862152, 1.01362135, 0.99512098]),\n",
              " 'test_mae': array([0.77011201, 0.76853352, 0.77270393, 0.78282336, 0.77033296]),\n",
              " 'fit_time': (0.22371578216552734,\n",
              "  0.21075749397277832,\n",
              "  0.23010849952697754,\n",
              "  0.3326609134674072,\n",
              "  0.2556772232055664),\n",
              " 'test_time': (1.3238885402679443,\n",
              "  1.3942146301269531,\n",
              "  2.3201234340667725,\n",
              "  2.0914971828460693,\n",
              "  1.5088739395141602)}"
            ]
          },
          "metadata": {},
          "execution_count": 19
        }
      ]
    },
    {
      "cell_type": "code",
      "source": [
        "## plot for user based on different similarities for MAE\n",
        "\n",
        "plt.plot(knn_user_cosine_res['test_mae'])\n",
        "plt.plot(knn_user_msd_res['test_mae'])\n",
        "plt.plot(knn_user_pearson_res['test_mae'])\n",
        "plt.legend(['cosine', 'msd', 'pearson'])\n",
        "plt.title('MAE for user model based on different similarities')\n",
        "\n",
        "plt.xlabel('Fold')\n",
        "plt.ylabel('MAE')\n",
        "plt.show()\n",
        "\n"
      ],
      "metadata": {
        "colab": {
          "base_uri": "https://localhost:8080/",
          "height": 472
        },
        "id": "3gNyExz83Gth",
        "outputId": "53996c71-3399-471b-b9c1-706508b8d9d7"
      },
      "execution_count": null,
      "outputs": [
        {
          "output_type": "display_data",
          "data": {
            "text/plain": [
              "<Figure size 640x480 with 1 Axes>"
            ],
            "image/png": "[encoded data removed]"
          },
          "metadata": {}
        }
      ]
    },
    {
      "cell_type": "code",
      "source": [
        "## plot for user based on different similarities for RMSE\n",
        "\n",
        "plt.plot(knn_user_cosine_res['test_rmse'])\n",
        "plt.plot(knn_user_msd_res['test_rmse'])\n",
        "plt.plot(knn_user_pearson_res['test_rmse'])\n",
        "plt.legend(['cosine', 'msd', 'pearson'])\n",
        "plt.title('RMSE for user model based on different similarities')\n",
        "\n",
        "plt.xlabel('Fold')\n",
        "plt.ylabel('RMSE')\n",
        "plt.show()"
      ],
      "metadata": {
        "colab": {
          "base_uri": "https://localhost:8080/",
          "height": 472
        },
        "id": "r2tZPP7i5Std",
        "outputId": "a114ff35-4b2d-4c97-d796-77da3fe4bb81"
      },
      "execution_count": null,
      "outputs": [
        {
          "output_type": "display_data",
          "data": {
            "text/plain": [
              "<Figure size 640x480 with 1 Axes>"
            ],
            "image/png": "[encoded data removed]"
          },
          "metadata": {}
        }
      ]
    },
    {
      "cell_type": "code",
      "source": [
        "## plot for item based on different similarities for MAE\n",
        "\n",
        "plt.plot(knn_item_cosine_res['test_mae'])\n",
        "plt.plot(knn_item_msd_res['test_mae'])\n",
        "plt.plot(knn_item_pearson_res['test_mae'])\n",
        "plt.legend(['cosine', 'msd', 'pearson'])\n",
        "plt.title('MAE for item model based on different similarities')\n",
        "\n",
        "plt.xlabel('Fold')\n",
        "plt.ylabel('MAE')\n",
        "plt.show()"
      ],
      "metadata": {
        "colab": {
          "base_uri": "https://localhost:8080/",
          "height": 472
        },
        "id": "zwCho0OK5sDF",
        "outputId": "3a701c4f-3d83-4c6d-c65a-676911dfeb83"
      },
      "execution_count": null,
      "outputs": [
        {
          "output_type": "display_data",
          "data": {
            "text/plain": [
              "<Figure size 640x480 with 1 Axes>"
            ],
            "image/png": "[encoded data removed]"
          },
          "metadata": {}
        }
      ]
    },
    {
      "cell_type": "code",
      "source": [
        "## plot for item based on different similarities for RMSE\n",
        "\n",
        "plt.plot(knn_item_cosine_res['test_rmse'])\n",
        "plt.plot(knn_item_msd_res['test_rmse'])\n",
        "plt.plot(knn_item_pearson_res['test_rmse'])\n",
        "plt.legend(['cosine', 'msd', 'pearson'])\n",
        "plt.title('RMSE for item model based on different similarities')\n",
        "\n",
        "plt.xlabel('Fold')\n",
        "plt.ylabel('RMSE')\n",
        "plt.show()"
      ],
      "metadata": {
        "colab": {
          "base_uri": "https://localhost:8080/",
          "height": 472
        },
        "id": "fGWFt8Ks52q2",
        "outputId": "0ff9340c-b64c-4193-e861-41c68366913e"
      },
      "execution_count": null,
      "outputs": [
        {
          "output_type": "display_data",
          "data": {
            "text/plain": [
              "<Figure size 640x480 with 1 Axes>"
            ],
            "image/png": "[encoded data removed]"
          },
          "metadata": {}
        }
      ]
    },
    {
      "cell_type": "code",
      "source": [
        "## using MSD simialrity to find the best K for item based, since it performs well for all\n",
        "\n",
        "sim_options = {'name': 'msd', 'user_based': False}\n",
        "\n",
        "\n",
        "item_k_msd_res = {}\n",
        "\n",
        "start_k = 5\n",
        "max_k = len(ratings.movieId.unique())\n",
        "prev_rmse = 1000000000\n",
        "\n",
        "for k1 in range(start_k, max_k, 3):\n",
        "  knn_item_msd = KNNBasic(sim_options=sim_options, k=k1)\n",
        "  res = cross_validate(knn_item_msd, data, measures=['RMSE', 'MAE'], cv=5, verbose=True)\n",
        "  cur_rmse = np.mean(res['test_rmse'])\n",
        "  cur_mae = np.mean(res['test_mae'])\n",
        "  item_k_msd_res[k1] = (\"mean_rmse\" , cur_rmse, \"mean_mae\", cur_mae)\n",
        "  print(k1, cur_rmse, cur_mae)\n",
        "  if (cur_rmse > prev_rmse):\n",
        "    break\n",
        "  prev_rmse = cur_rmse\n",
        "\n",
        "\n"
      ],
      "metadata": {
        "colab": {
          "base_uri": "https://localhost:8080/"
        },
        "id": "8s99cFDt6cpA",
        "outputId": "4e0a5c54-678f-404e-8e86-6403e7799036"
      },
      "execution_count": null,
      "outputs": [
        {
          "output_type": "stream",
          "name": "stdout",
          "text": [
            "Computing the msd similarity matrix...\n",
            "Done computing similarity matrix.\n",
            "Computing the msd similarity matrix...\n",
            "Done computing similarity matrix.\n",
            "Computing the msd similarity matrix...\n",
            "Done computing similarity matrix.\n",
            "Computing the msd similarity matrix...\n",
            "Done computing similarity matrix.\n",
            "Computing the msd similarity matrix...\n",
            "Done computing similarity matrix.\n",
            "Evaluating RMSE, MAE of algorithm KNNBasic on 5 split(s).\n",
            "\n",
            "                  Fold 1  Fold 2  Fold 3  Fold 4  Fold 5  Mean    Std     \n",
            "RMSE (testset)    1.0025  1.0158  1.0276  1.0243  1.0201  1.0181  0.0088  \n",
            "MAE (testset)     0.7741  0.7862  0.7933  0.7910  0.7875  0.7864  0.0067  \n",
            "Fit time          4.56    4.87    3.86    3.86    3.98    4.23    0.41    \n",
            "Test time         5.42    5.72    8.67    7.26    7.16    6.85    1.17    \n",
            "5 1.0180669922271048 0.7864127998926661\n",
            "Computing the msd similarity matrix...\n",
            "Done computing similarity matrix.\n",
            "Computing the msd similarity matrix...\n",
            "Done computing similarity matrix.\n",
            "Computing the msd similarity matrix...\n",
            "Done computing similarity matrix.\n",
            "Computing the msd similarity matrix...\n",
            "Done computing similarity matrix.\n",
            "Computing the msd similarity matrix...\n",
            "Done computing similarity matrix.\n",
            "Evaluating RMSE, MAE of algorithm KNNBasic on 5 split(s).\n",
            "\n",
            "                  Fold 1  Fold 2  Fold 3  Fold 4  Fold 5  Mean    Std     \n",
            "RMSE (testset)    0.9827  0.9924  0.9938  0.9880  0.9850  0.9884  0.0042  \n",
            "MAE (testset)     0.7592  0.7697  0.7697  0.7624  0.7620  0.7646  0.0043  \n",
            "Fit time          3.77    4.66    13.98   6.33    4.72    6.69    3.74    \n",
            "Test time         5.78    6.58    7.22    5.83    7.39    6.56    0.67    \n",
            "8 0.9883817435494944 0.7645877023122001\n",
            "Computing the msd similarity matrix...\n",
            "Done computing similarity matrix.\n",
            "Computing the msd similarity matrix...\n",
            "Done computing similarity matrix.\n",
            "Computing the msd similarity matrix...\n",
            "Done computing similarity matrix.\n",
            "Computing the msd similarity matrix...\n",
            "Done computing similarity matrix.\n",
            "Computing the msd similarity matrix...\n",
            "Done computing similarity matrix.\n",
            "Evaluating RMSE, MAE of algorithm KNNBasic on 5 split(s).\n",
            "\n",
            "                  Fold 1  Fold 2  Fold 3  Fold 4  Fold 5  Mean    Std     \n",
            "RMSE (testset)    0.9646  0.9705  0.9693  0.9667  0.9746  0.9692  0.0034  \n",
            "MAE (testset)     0.7460  0.7484  0.7496  0.7515  0.7533  0.7498  0.0025  \n",
            "Fit time          4.14    4.58    4.33    4.37    5.08    4.50    0.32    \n",
            "Test time         7.76    7.63    7.44    6.32    6.18    7.06    0.68    \n",
            "11 0.9691628139933017 0.7497621095969775\n",
            "Computing the msd similarity matrix...\n",
            "Done computing similarity matrix.\n",
            "Computing the msd similarity matrix...\n",
            "Done computing similarity matrix.\n",
            "Computing the msd similarity matrix...\n",
            "Done computing similarity matrix.\n",
            "Computing the msd similarity matrix...\n",
            "Done computing similarity matrix.\n",
            "Computing the msd similarity matrix...\n",
            "Done computing similarity matrix.\n",
            "Evaluating RMSE, MAE of algorithm KNNBasic on 5 split(s).\n",
            "\n",
            "                  Fold 1  Fold 2  Fold 3  Fold 4  Fold 5  Mean    Std     \n",
            "RMSE (testset)    0.9679  0.9570  0.9490  0.9624  0.9588  0.9590  0.0062  \n",
            "MAE (testset)     0.7482  0.7405  0.7335  0.7444  0.7437  0.7421  0.0049  \n",
            "Fit time          5.20    4.31    4.29    4.73    4.45    4.60    0.34    \n",
            "Test time         6.07    7.54    7.83    7.97    8.15    7.51    0.75    \n",
            "14 0.9590193324752739 0.7420649580788156\n",
            "Computing the msd similarity matrix...\n",
            "Done computing similarity matrix.\n",
            "Computing the msd similarity matrix...\n",
            "Done computing similarity matrix.\n",
            "Computing the msd similarity matrix...\n",
            "Done computing similarity matrix.\n",
            "Computing the msd similarity matrix...\n",
            "Done computing similarity matrix.\n",
            "Computing the msd similarity matrix...\n",
            "Done computing similarity matrix.\n",
            "Evaluating RMSE, MAE of algorithm KNNBasic on 5 split(s).\n",
            "\n",
            "                  Fold 1  Fold 2  Fold 3  Fold 4  Fold 5  Mean    Std     \n",
            "RMSE (testset)    0.9527  0.9551  0.9482  0.9565  0.9454  0.9515  0.0042  \n",
            "MAE (testset)     0.7375  0.7356  0.7313  0.7421  0.7318  0.7357  0.0040  \n",
            "Fit time          4.28    4.62    5.26    4.94    4.45    4.71    0.35    \n",
            "Test time         7.42    6.37    6.37    7.36    8.16    7.14    0.68    \n",
            "17 0.9515466693119894 0.735651695597442\n",
            "Computing the msd similarity matrix...\n",
            "Done computing similarity matrix.\n",
            "Computing the msd similarity matrix...\n",
            "Done computing similarity matrix.\n",
            "Computing the msd similarity matrix...\n",
            "Done computing similarity matrix.\n",
            "Computing the msd similarity matrix...\n",
            "Done computing similarity matrix.\n",
            "Computing the msd similarity matrix...\n",
            "Done computing similarity matrix.\n",
            "Evaluating RMSE, MAE of algorithm KNNBasic on 5 split(s).\n",
            "\n",
            "                  Fold 1  Fold 2  Fold 3  Fold 4  Fold 5  Mean    Std     \n",
            "RMSE (testset)    0.9513  0.9453  0.9579  0.9475  0.9372  0.9478  0.0068  \n",
            "MAE (testset)     0.7318  0.7325  0.7413  0.7333  0.7242  0.7326  0.0054  \n",
            "Fit time          4.19    4.25    4.33    4.36    4.58    4.34    0.13    \n",
            "Test time         8.03    8.39    7.98    7.08    6.34    7.56    0.75    \n",
            "20 0.9478209223921373 0.7326190365054962\n",
            "Computing the msd similarity matrix...\n",
            "Done computing similarity matrix.\n",
            "Computing the msd similarity matrix...\n",
            "Done computing similarity matrix.\n",
            "Computing the msd similarity matrix...\n",
            "Done computing similarity matrix.\n",
            "Computing the msd similarity matrix...\n",
            "Done computing similarity matrix.\n",
            "Computing the msd similarity matrix...\n",
            "Done computing similarity matrix.\n",
            "Evaluating RMSE, MAE of algorithm KNNBasic on 5 split(s).\n",
            "\n",
            "                  Fold 1  Fold 2  Fold 3  Fold 4  Fold 5  Mean    Std     \n",
            "RMSE (testset)    0.9416  0.9364  0.9505  0.9411  0.9463  0.9432  0.0048  \n",
            "MAE (testset)     0.7270  0.7243  0.7345  0.7261  0.7293  0.7282  0.0035  \n",
            "Fit time          5.02    4.55    4.24    4.31    4.53    4.53    0.27    \n",
            "Test time         6.49    7.38    8.41    8.29    8.63    7.84    0.80    \n",
            "23 0.9432038078727947 0.7282336467840345\n",
            "Computing the msd similarity matrix...\n",
            "Done computing similarity matrix.\n",
            "Computing the msd similarity matrix...\n",
            "Done computing similarity matrix.\n",
            "Computing the msd similarity matrix...\n",
            "Done computing similarity matrix.\n",
            "Computing the msd similarity matrix...\n",
            "Done computing similarity matrix.\n",
            "Computing the msd similarity matrix...\n",
            "Done computing similarity matrix.\n",
            "Evaluating RMSE, MAE of algorithm KNNBasic on 5 split(s).\n",
            "\n",
            "                  Fold 1  Fold 2  Fold 3  Fold 4  Fold 5  Mean    Std     \n",
            "RMSE (testset)    0.9422  0.9417  0.9394  0.9461  0.9384  0.9416  0.0027  \n",
            "MAE (testset)     0.7248  0.7261  0.7240  0.7334  0.7268  0.7270  0.0033  \n",
            "Fit time          4.09    4.16    4.28    4.80    5.31    4.53    0.46    \n",
            "Test time         8.39    8.80    7.20    6.76    6.93    7.62    0.82    \n",
            "26 0.9415576870160833 0.7270355138443458\n",
            "Computing the msd similarity matrix...\n",
            "Done computing similarity matrix.\n",
            "Computing the msd similarity matrix...\n",
            "Done computing similarity matrix.\n",
            "Computing the msd similarity matrix...\n",
            "Done computing similarity matrix.\n",
            "Computing the msd similarity matrix...\n",
            "Done computing similarity matrix.\n",
            "Computing the msd similarity matrix...\n",
            "Done computing similarity matrix.\n",
            "Evaluating RMSE, MAE of algorithm KNNBasic on 5 split(s).\n",
            "\n",
            "                  Fold 1  Fold 2  Fold 3  Fold 4  Fold 5  Mean    Std     \n",
            "RMSE (testset)    0.9424  0.9407  0.9436  0.9322  0.9390  0.9396  0.0040  \n",
            "MAE (testset)     0.7292  0.7258  0.7292  0.7168  0.7252  0.7253  0.0045  \n",
            "Fit time          4.76    5.25    5.36    4.29    4.50    4.83    0.42    \n",
            "Test time         7.23    9.53    8.25    8.66    8.90    8.51    0.76    \n",
            "29 0.9396008033803115 0.7252500480927541\n",
            "Computing the msd similarity matrix...\n",
            "Done computing similarity matrix.\n",
            "Computing the msd similarity matrix...\n",
            "Done computing similarity matrix.\n",
            "Computing the msd similarity matrix...\n",
            "Done computing similarity matrix.\n",
            "Computing the msd similarity matrix...\n",
            "Done computing similarity matrix.\n",
            "Computing the msd similarity matrix...\n",
            "Done computing similarity matrix.\n",
            "Evaluating RMSE, MAE of algorithm KNNBasic on 5 split(s).\n",
            "\n",
            "                  Fold 1  Fold 2  Fold 3  Fold 4  Fold 5  Mean    Std     \n",
            "RMSE (testset)    0.9360  0.9469  0.9348  0.9389  0.9334  0.9380  0.0048  \n",
            "MAE (testset)     0.7219  0.7320  0.7250  0.7254  0.7179  0.7245  0.0046  \n",
            "Fit time          4.18    4.19    4.50    4.28    4.82    4.39    0.25    \n",
            "Test time         7.84    8.60    8.63    8.20    8.29    8.31    0.29    \n",
            "32 0.9379932786264902 0.724453558694893\n",
            "Computing the msd similarity matrix...\n",
            "Done computing similarity matrix.\n",
            "Computing the msd similarity matrix...\n",
            "Done computing similarity matrix.\n",
            "Computing the msd similarity matrix...\n",
            "Done computing similarity matrix.\n",
            "Computing the msd similarity matrix...\n",
            "Done computing similarity matrix.\n",
            "Computing the msd similarity matrix...\n",
            "Done computing similarity matrix.\n",
            "Evaluating RMSE, MAE of algorithm KNNBasic on 5 split(s).\n",
            "\n",
            "                  Fold 1  Fold 2  Fold 3  Fold 4  Fold 5  Mean    Std     \n",
            "RMSE (testset)    0.9390  0.9362  0.9336  0.9403  0.9312  0.9361  0.0034  \n",
            "MAE (testset)     0.7229  0.7232  0.7209  0.7245  0.7192  0.7221  0.0019  \n",
            "Fit time          4.27    4.83    4.65    4.23    4.41    4.48    0.23    \n",
            "Test time         8.70    8.69    8.44    8.48    7.71    8.40    0.36    \n",
            "35 0.9360541987460049 0.7221221895260406\n",
            "Computing the msd similarity matrix...\n",
            "Done computing similarity matrix.\n",
            "Computing the msd similarity matrix...\n",
            "Done computing similarity matrix.\n",
            "Computing the msd similarity matrix...\n",
            "Done computing similarity matrix.\n",
            "Computing the msd similarity matrix...\n",
            "Done computing similarity matrix.\n",
            "Computing the msd similarity matrix...\n",
            "Done computing similarity matrix.\n",
            "Evaluating RMSE, MAE of algorithm KNNBasic on 5 split(s).\n",
            "\n",
            "                  Fold 1  Fold 2  Fold 3  Fold 4  Fold 5  Mean    Std     \n",
            "RMSE (testset)    0.9362  0.9375  0.9369  0.9368  0.9331  0.9361  0.0016  \n",
            "MAE (testset)     0.7216  0.7239  0.7236  0.7228  0.7204  0.7225  0.0013  \n",
            "Fit time          13.02   5.90    4.90    4.16    4.40    6.48    3.33    \n",
            "Test time         9.55    8.54    8.72    8.82    8.77    8.88    0.35    \n",
            "38 0.9360945413367551 0.722468864037112\n"
          ]
        }
      ]
    },
    {
      "cell_type": "code",
      "source": [
        "## using MSD simialrity to find the best K for user based, since it performs well for all\n",
        "\n",
        "sim_options = {'name': 'msd', 'user_based': True}\n",
        "\n",
        "\n",
        "user_k_msd_res = {}\n",
        "\n",
        "start_k = 5\n",
        "max_k = len(ratings.userId.unique())\n",
        "prev_rmse = 1000000000\n",
        "\n",
        "for k1 in range(start_k, max_k, 3):\n",
        "  knn_user = KNNBasic(sim_options=sim_options, k=k1)\n",
        "  res = cross_validate(knn_user, data, measures=['RMSE', 'MAE'], cv=5, verbose=True)\n",
        "  cur_rmse = np.mean(res['test_rmse'])\n",
        "  cur_mae = np.mean(res['test_mae'])\n",
        "  user_k_msd_res[k1] = (\"mean_rmse\" , cur_rmse, \"mean_mae\", cur_mae)\n",
        "  print(k1, cur_rmse, cur_mae)\n",
        "  if (cur_rmse > prev_rmse):\n",
        "    break\n",
        "  prev_rmse = cur_rmse"
      ],
      "metadata": {
        "colab": {
          "base_uri": "https://localhost:8080/"
        },
        "id": "1FN9Gp57AHPk",
        "outputId": "d8c18630-1ad6-4ea9-9412-0c067330c51a"
      },
      "execution_count": null,
      "outputs": [
        {
          "output_type": "stream",
          "name": "stdout",
          "text": [
            "Computing the msd similarity matrix...\n",
            "Done computing similarity matrix.\n",
            "Computing the msd similarity matrix...\n",
            "Done computing similarity matrix.\n",
            "Computing the msd similarity matrix...\n",
            "Done computing similarity matrix.\n",
            "Computing the msd similarity matrix...\n",
            "Done computing similarity matrix.\n",
            "Computing the msd similarity matrix...\n",
            "Done computing similarity matrix.\n",
            "Evaluating RMSE, MAE of algorithm KNNBasic on 5 split(s).\n",
            "\n",
            "                  Fold 1  Fold 2  Fold 3  Fold 4  Fold 5  Mean    Std     \n",
            "RMSE (testset)    0.9837  0.9945  0.9950  0.9868  0.9828  0.9886  0.0052  \n",
            "MAE (testset)     0.7527  0.7614  0.7599  0.7549  0.7521  0.7562  0.0038  \n",
            "Fit time          0.20    0.22    0.30    0.17    0.18    0.21    0.05    \n",
            "Test time         2.08    1.68    1.05    1.05    1.09    1.39    0.42    \n",
            "5 0.9885713888412271 0.7561784983689266\n",
            "Computing the msd similarity matrix...\n",
            "Done computing similarity matrix.\n",
            "Computing the msd similarity matrix...\n",
            "Done computing similarity matrix.\n",
            "Computing the msd similarity matrix...\n",
            "Done computing similarity matrix.\n",
            "Computing the msd similarity matrix...\n",
            "Done computing similarity matrix.\n",
            "Computing the msd similarity matrix...\n",
            "Done computing similarity matrix.\n",
            "Evaluating RMSE, MAE of algorithm KNNBasic on 5 split(s).\n",
            "\n",
            "                  Fold 1  Fold 2  Fold 3  Fold 4  Fold 5  Mean    Std     \n",
            "RMSE (testset)    0.9720  0.9652  0.9688  0.9736  0.9696  0.9699  0.0029  \n",
            "MAE (testset)     0.7441  0.7372  0.7416  0.7447  0.7417  0.7419  0.0026  \n",
            "Fit time          0.17    0.17    0.18    0.17    0.21    0.18    0.02    \n",
            "Test time         1.17    1.11    1.17    1.40    1.88    1.35    0.29    \n",
            "8 0.9698584779324925 0.7418722980304523\n",
            "Computing the msd similarity matrix...\n",
            "Done computing similarity matrix.\n",
            "Computing the msd similarity matrix...\n",
            "Done computing similarity matrix.\n",
            "Computing the msd similarity matrix...\n",
            "Done computing similarity matrix.\n",
            "Computing the msd similarity matrix...\n",
            "Done computing similarity matrix.\n",
            "Computing the msd similarity matrix...\n",
            "Done computing similarity matrix.\n",
            "Evaluating RMSE, MAE of algorithm KNNBasic on 5 split(s).\n",
            "\n",
            "                  Fold 1  Fold 2  Fold 3  Fold 4  Fold 5  Mean    Std     \n",
            "RMSE (testset)    0.9582  0.9560  0.9658  0.9658  0.9710  0.9634  0.0055  \n",
            "MAE (testset)     0.7345  0.7301  0.7379  0.7378  0.7428  0.7366  0.0042  \n",
            "Fit time          0.19    0.16    0.17    0.17    0.17    0.17    0.01    \n",
            "Test time         1.33    1.17    1.16    1.17    1.31    1.23    0.08    \n",
            "11 0.963362020095952 0.7366038097359626\n",
            "Computing the msd similarity matrix...\n",
            "Done computing similarity matrix.\n",
            "Computing the msd similarity matrix...\n",
            "Done computing similarity matrix.\n",
            "Computing the msd similarity matrix...\n",
            "Done computing similarity matrix.\n",
            "Computing the msd similarity matrix...\n",
            "Done computing similarity matrix.\n",
            "Computing the msd similarity matrix...\n",
            "Done computing similarity matrix.\n",
            "Evaluating RMSE, MAE of algorithm KNNBasic on 5 split(s).\n",
            "\n",
            "                  Fold 1  Fold 2  Fold 3  Fold 4  Fold 5  Mean    Std     \n",
            "RMSE (testset)    0.9607  0.9630  0.9655  0.9598  0.9572  0.9613  0.0028  \n",
            "MAE (testset)     0.7381  0.7353  0.7407  0.7330  0.7334  0.7361  0.0029  \n",
            "Fit time          0.14    0.16    0.24    0.21    0.20    0.19    0.03    \n",
            "Test time         1.19    1.65    2.00    1.61    1.39    1.57    0.27    \n",
            "14 0.9612651538150002 0.7361146948817704\n",
            "Computing the msd similarity matrix...\n",
            "Done computing similarity matrix.\n",
            "Computing the msd similarity matrix...\n",
            "Done computing similarity matrix.\n",
            "Computing the msd similarity matrix...\n",
            "Done computing similarity matrix.\n",
            "Computing the msd similarity matrix...\n",
            "Done computing similarity matrix.\n",
            "Computing the msd similarity matrix...\n",
            "Done computing similarity matrix.\n",
            "Evaluating RMSE, MAE of algorithm KNNBasic on 5 split(s).\n",
            "\n",
            "                  Fold 1  Fold 2  Fold 3  Fold 4  Fold 5  Mean    Std     \n",
            "RMSE (testset)    0.9659  0.9687  0.9590  0.9584  0.9575  0.9619  0.0045  \n",
            "MAE (testset)     0.7396  0.7407  0.7348  0.7340  0.7337  0.7366  0.0030  \n",
            "Fit time          0.16    0.20    0.16    0.15    0.27    0.19    0.04    \n",
            "Test time         1.30    1.41    1.27    1.61    2.17    1.55    0.33    \n",
            "17 0.9619120759265835 0.7365689617250111\n"
          ]
        }
      ]
    },
    {
      "cell_type": "code",
      "source": [
        "## plotting for item based\n",
        "\n",
        "plt.plot(item_k_msd_res.keys(), [x[1] for x in item_k_msd_res.values()], marker='o')\n",
        "plt.xlabel('K')\n",
        "plt.ylabel('RMSE')\n",
        "plt.title('Item based K vs RMSE')\n",
        "plt.show()\n",
        "\n",
        "print(item_k_msd_res)\n",
        "\n",
        "##least value at 35"
      ],
      "metadata": {
        "colab": {
          "base_uri": "https://localhost:8080/",
          "height": 510
        },
        "id": "DYvbXpnJJkRR",
        "outputId": "0b5e33f2-dd64-4790-aa1c-f4c08d6bfb96"
      },
      "execution_count": null,
      "outputs": [
        {
          "output_type": "display_data",
          "data": {
            "text/plain": [
              "<Figure size 640x480 with 1 Axes>"
            ],
            "image/png": "[encoded data removed]"
          },
          "metadata": {}
        },
        {
          "output_type": "stream",
          "name": "stdout",
          "text": [
            "{5: ('mean_rmse', 1.0180669922271048, 'mean_mae', 0.7864127998926661), 8: ('mean_rmse', 0.9883817435494944, 'mean_mae', 0.7645877023122001), 11: ('mean_rmse', 0.9691628139933017, 'mean_mae', 0.7497621095969775), 14: ('mean_rmse', 0.9590193324752739, 'mean_mae', 0.7420649580788156), 17: ('mean_rmse', 0.9515466693119894, 'mean_mae', 0.735651695597442), 20: ('mean_rmse', 0.9478209223921373, 'mean_mae', 0.7326190365054962), 23: ('mean_rmse', 0.9432038078727947, 'mean_mae', 0.7282336467840345), 26: ('mean_rmse', 0.9415576870160833, 'mean_mae', 0.7270355138443458), 29: ('mean_rmse', 0.9396008033803115, 'mean_mae', 0.7252500480927541), 32: ('mean_rmse', 0.9379932786264902, 'mean_mae', 0.724453558694893), 35: ('mean_rmse', 0.9360541987460049, 'mean_mae', 0.7221221895260406), 38: ('mean_rmse', 0.9360945413367551, 'mean_mae', 0.722468864037112)}\n"
          ]
        }
      ]
    },
    {
      "cell_type": "code",
      "source": [
        "## plotting for user based\n",
        "\n",
        "plt.plot(user_k_msd_res.keys(), [x[1] for x in user_k_msd_res.values()], marker='o')\n",
        "plt.xlabel('K')\n",
        "plt.ylabel('RMSE')\n",
        "plt.title('User based K vs RMSE')\n",
        "plt.show()\n",
        "\n",
        "print(user_k_msd_res)"
      ],
      "metadata": {
        "colab": {
          "base_uri": "https://localhost:8080/",
          "height": 510
        },
        "id": "rZHbMxz_KJTJ",
        "outputId": "5db60c03-e2b8-42ae-bd85-789eaeef8db5"
      },
      "execution_count": null,
      "outputs": [
        {
          "output_type": "display_data",
          "data": {
            "text/plain": [
              "<Figure size 640x480 with 1 Axes>"
            ],
            "image/png": "[encoded data removed]"
          },
          "metadata": {}
        },
        {
          "output_type": "stream",
          "name": "stdout",
          "text": [
            "{5: ('mean_rmse', 0.9885713888412271, 'mean_mae', 0.7561784983689266), 8: ('mean_rmse', 0.9698584779324925, 'mean_mae', 0.7418722980304523), 11: ('mean_rmse', 0.963362020095952, 'mean_mae', 0.7366038097359626), 14: ('mean_rmse', 0.9612651538150002, 'mean_mae', 0.7361146948817704), 17: ('mean_rmse', 0.9619120759265835, 'mean_mae', 0.7365689617250111)}\n"
          ]
        }
      ]
    }
  ]
}